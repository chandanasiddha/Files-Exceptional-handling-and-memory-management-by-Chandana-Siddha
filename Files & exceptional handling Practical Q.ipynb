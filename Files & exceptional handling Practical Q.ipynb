{
 "cells": [
  {
   "cell_type": "markdown",
   "id": "97e5c338",
   "metadata": {},
   "source": [
    "### Practical Questions:"
   ]
  },
  {
   "cell_type": "markdown",
   "id": "9fdcc218",
   "metadata": {},
   "source": [
    "### 1. How can you open a file for writing in Python and write a string to it?"
   ]
  },
  {
   "cell_type": "code",
   "execution_count": 1,
   "id": "42fa1066",
   "metadata": {},
   "outputs": [
    {
     "name": "stdout",
     "output_type": "stream",
     "text": [
      "File written successfully!\n"
     ]
    }
   ],
   "source": [
    "# Open the file in write mode ('w')\n",
    "with open(\"example.txt\", \"w\") as file:\n",
    "    # Write a string to the file\n",
    "    file.write(\"Hello, I am Chandana.\")\n",
    "\n",
    "print(\"File written successfully!\")"
   ]
  },
  {
   "cell_type": "markdown",
   "id": "5344558c",
   "metadata": {},
   "source": [
    "### 2. Write a Python program to read the contents of a file and print each line?"
   ]
  },
  {
   "cell_type": "code",
   "execution_count": 2,
   "id": "b7dea55d",
   "metadata": {},
   "outputs": [
    {
     "name": "stdout",
     "output_type": "stream",
     "text": [
      "Hello, I am Chandana.\n",
      "File read successfully!\n"
     ]
    }
   ],
   "source": [
    "# Open the file in read mode ('r')\n",
    "with open(\"example.txt\", \"r\") as file:\n",
    "    # Read and print each line from the file\n",
    "    for line in file:\n",
    "        print(line.strip())  # .strip() removes any extra newline characters\n",
    "\n",
    "print(\"File read successfully!\")"
   ]
  },
  {
   "cell_type": "markdown",
   "id": "8d721047",
   "metadata": {},
   "source": [
    "### 3. How would you handle a case where the file doesn't exist while trying to open it for reading?"
   ]
  },
  {
   "cell_type": "code",
   "execution_count": 3,
   "id": "720070e1",
   "metadata": {},
   "outputs": [
    {
     "name": "stdout",
     "output_type": "stream",
     "text": [
      "Hello, I am Chandana.\n"
     ]
    }
   ],
   "source": [
    "try:\n",
    "    # Attempt to open the file in read mode ('r')\n",
    "    with open(\"example.txt\", \"r\") as file:\n",
    "        for line in file:\n",
    "            print(line.strip())\n",
    "except FileNotFoundError:\n",
    "    print(\"Error: The file does not exist. Please check the filename and try again.\")"
   ]
  },
  {
   "cell_type": "markdown",
   "id": "47106fd5",
   "metadata": {},
   "source": [
    "### 4. Write a Python script that reads from one file and writes its content to another file?"
   ]
  },
  {
   "cell_type": "code",
   "execution_count": 4,
   "id": "6e5df5b7",
   "metadata": {},
   "outputs": [
    {
     "ename": "FileNotFoundError",
     "evalue": "[Errno 2] No such file or directory: 'source.txt'",
     "output_type": "error",
     "traceback": [
      "\u001b[1;31m---------------------------------------------------------------------------\u001b[0m",
      "\u001b[1;31mFileNotFoundError\u001b[0m                         Traceback (most recent call last)",
      "Cell \u001b[1;32mIn[4], line 2\u001b[0m\n\u001b[0;32m      1\u001b[0m \u001b[38;5;66;03m# Open the source file in read mode ('r') and the destination file in write mode ('w')\u001b[39;00m\n\u001b[1;32m----> 2\u001b[0m \u001b[38;5;28;01mwith\u001b[39;00m \u001b[38;5;28mopen\u001b[39m(\u001b[38;5;124m\"\u001b[39m\u001b[38;5;124msource.txt\u001b[39m\u001b[38;5;124m\"\u001b[39m, \u001b[38;5;124m\"\u001b[39m\u001b[38;5;124mr\u001b[39m\u001b[38;5;124m\"\u001b[39m) \u001b[38;5;28;01mas\u001b[39;00m source_file, \u001b[38;5;28mopen\u001b[39m(\u001b[38;5;124m\"\u001b[39m\u001b[38;5;124mdestination.txt\u001b[39m\u001b[38;5;124m\"\u001b[39m, \u001b[38;5;124m\"\u001b[39m\u001b[38;5;124mw\u001b[39m\u001b[38;5;124m\"\u001b[39m) \u001b[38;5;28;01mas\u001b[39;00m destination_file:\n\u001b[0;32m      3\u001b[0m     \u001b[38;5;66;03m# Read the contents of the source file\u001b[39;00m\n\u001b[0;32m      4\u001b[0m     content \u001b[38;5;241m=\u001b[39m source_file\u001b[38;5;241m.\u001b[39mread()\n\u001b[0;32m      5\u001b[0m     \u001b[38;5;66;03m# Write the contents to the destination file\u001b[39;00m\n",
      "File \u001b[1;32m~\\anaconda3\\Lib\\site-packages\\IPython\\core\\interactiveshell.py:284\u001b[0m, in \u001b[0;36m_modified_open\u001b[1;34m(file, *args, **kwargs)\u001b[0m\n\u001b[0;32m    277\u001b[0m \u001b[38;5;28;01mif\u001b[39;00m file \u001b[38;5;129;01min\u001b[39;00m {\u001b[38;5;241m0\u001b[39m, \u001b[38;5;241m1\u001b[39m, \u001b[38;5;241m2\u001b[39m}:\n\u001b[0;32m    278\u001b[0m     \u001b[38;5;28;01mraise\u001b[39;00m \u001b[38;5;167;01mValueError\u001b[39;00m(\n\u001b[0;32m    279\u001b[0m         \u001b[38;5;124mf\u001b[39m\u001b[38;5;124m\"\u001b[39m\u001b[38;5;124mIPython won\u001b[39m\u001b[38;5;124m'\u001b[39m\u001b[38;5;124mt let you open fd=\u001b[39m\u001b[38;5;132;01m{\u001b[39;00mfile\u001b[38;5;132;01m}\u001b[39;00m\u001b[38;5;124m by default \u001b[39m\u001b[38;5;124m\"\u001b[39m\n\u001b[0;32m    280\u001b[0m         \u001b[38;5;124m\"\u001b[39m\u001b[38;5;124mas it is likely to crash IPython. If you know what you are doing, \u001b[39m\u001b[38;5;124m\"\u001b[39m\n\u001b[0;32m    281\u001b[0m         \u001b[38;5;124m\"\u001b[39m\u001b[38;5;124myou can use builtins\u001b[39m\u001b[38;5;124m'\u001b[39m\u001b[38;5;124m open.\u001b[39m\u001b[38;5;124m\"\u001b[39m\n\u001b[0;32m    282\u001b[0m     )\n\u001b[1;32m--> 284\u001b[0m \u001b[38;5;28;01mreturn\u001b[39;00m io_open(file, \u001b[38;5;241m*\u001b[39margs, \u001b[38;5;241m*\u001b[39m\u001b[38;5;241m*\u001b[39mkwargs)\n",
      "\u001b[1;31mFileNotFoundError\u001b[0m: [Errno 2] No such file or directory: 'source.txt'"
     ]
    }
   ],
   "source": [
    "# Open the source file in read mode ('r') and the destination file in write mode ('w')\n",
    "with open(\"source.txt\", \"r\") as source_file, open(\"destination.txt\", \"w\") as destination_file:\n",
    "    # Read the contents of the source file\n",
    "    content = source_file.read()\n",
    "    # Write the contents to the destination file\n",
    "    destination_file.write(content)\n",
    "\n",
    "print(\"File copied successfully!\")"
   ]
  },
  {
   "cell_type": "markdown",
   "id": "3be6d481",
   "metadata": {},
   "source": [
    "### 5. How would you catch and handle division by zero error in Python?"
   ]
  },
  {
   "cell_type": "code",
   "execution_count": 5,
   "id": "38723843",
   "metadata": {},
   "outputs": [
    {
     "name": "stdout",
     "output_type": "stream",
     "text": [
      "Error: Division by zero is not allowed.\n"
     ]
    }
   ],
   "source": [
    "try:\n",
    "    # Attempt division\n",
    "    result = 10 / 0\n",
    "    print(\"Result:\", result)\n",
    "except ZeroDivisionError:\n",
    "    print(\"Error: Division by zero is not allowed.\")"
   ]
  },
  {
   "cell_type": "markdown",
   "id": "8d5b9353",
   "metadata": {},
   "source": [
    "### 6. Write a Python program that logs an error message to a log file when a division by zero exception occurs?\n"
   ]
  },
  {
   "cell_type": "code",
   "execution_count": 6,
   "id": "cfa95099",
   "metadata": {},
   "outputs": [
    {
     "name": "stdout",
     "output_type": "stream",
     "text": [
      "Error: Division by zero is not allowed.\n",
      "Program completed with error handling.\n"
     ]
    }
   ],
   "source": [
    "import logging\n",
    "\n",
    "# Configure logging to write error messages to a log file\n",
    "logging.basicConfig(filename=\"error_log.txt\", level=logging.ERROR, format=\"%(asctime)s - %(levelname)s - %(message)s\")\n",
    "\n",
    "try:\n",
    "    # Attempt division by zero\n",
    "    result = 10 / 0\n",
    "    print(\"Result:\", result)\n",
    "except ZeroDivisionError:\n",
    "    error_message = \"Error: Division by zero is not allowed.\"\n",
    "    print(error_message)\n",
    "    logging.error(error_message)  # Log the error message to the file\n",
    "\n",
    "print(\"Program completed with error handling.\")"
   ]
  },
  {
   "cell_type": "markdown",
   "id": "7172f1b6",
   "metadata": {},
   "source": [
    "### 7. How do you log information at different levels (INFO, ERROR, WARNING) in Python using the logging module?\n"
   ]
  },
  {
   "cell_type": "code",
   "execution_count": 7,
   "id": "7e2cc45d",
   "metadata": {},
   "outputs": [
    {
     "name": "stdout",
     "output_type": "stream",
     "text": [
      "Log messages written to 'app_log.txt'.\n"
     ]
    }
   ],
   "source": [
    "import logging\n",
    "\n",
    "# Configure logging to write messages to a log file\n",
    "logging.basicConfig(\n",
    "    filename=\"app_log.txt\",\n",
    "    level=logging.DEBUG,  # Set the lowest level (DEBUG) to capture all messages\n",
    "    format=\"%(asctime)s - %(levelname)s - %(message)s\"\n",
    ")\n",
    "\n",
    "# Log messages at different levels\n",
    "logging.debug(\"This is a DEBUG message (useful for troubleshooting).\")\n",
    "logging.info(\"This is an INFO message (general application information).\")\n",
    "logging.warning(\"This is a WARNING message (something might be wrong).\")\n",
    "logging.error(\"This is an ERROR message (a major problem occurred).\")\n",
    "logging.critical(\"This is a CRITICAL message (application failure).\")\n",
    "\n",
    "print(\"Log messages written to 'app_log.txt'.\")"
   ]
  },
  {
   "cell_type": "markdown",
   "id": "c6f3bdfe",
   "metadata": {},
   "source": [
    "### 8. Write a program to handle a file opening error using exception handling?"
   ]
  },
  {
   "cell_type": "code",
   "execution_count": 8,
   "id": "9cd9b0e7",
   "metadata": {},
   "outputs": [
    {
     "name": "stdout",
     "output_type": "stream",
     "text": [
      "Enter the filename to open: PW skills\n",
      "Error: The file 'PW skills' does not exist. Please check the filename.\n"
     ]
    }
   ],
   "source": [
    "def read_file():\n",
    "    filename = input(\"Enter the filename to open: \")  # Prompt user for a filename\n",
    "    try:\n",
    "        with open(filename, \"r\") as file:\n",
    "            content = file.read()\n",
    "            print(\"\\nFile content:\\n\", content)\n",
    "    except FileNotFoundError:\n",
    "        print(f\"Error: The file '{filename}' does not exist. Please check the filename.\")\n",
    "    except PermissionError:\n",
    "        print(f\"Error: Permission denied for '{filename}'.\")\n",
    "    except Exception as e:\n",
    "        print(f\"An unexpected error occurred: {e}\")\n",
    "\n",
    "# Run the function\n",
    "read_file()"
   ]
  },
  {
   "cell_type": "markdown",
   "id": "c3e4198f",
   "metadata": {},
   "source": [
    "### 9. How can you read a file line by line and store its content in a list in Python?"
   ]
  },
  {
   "cell_type": "code",
   "execution_count": 9,
   "id": "8ecc326d",
   "metadata": {},
   "outputs": [
    {
     "name": "stdout",
     "output_type": "stream",
     "text": [
      "File content stored in list:\n",
      "['Hello, I am Chandana.']\n"
     ]
    }
   ],
   "source": [
    "# Open the file in read mode ('r')\n",
    "with open(\"example.txt\", \"r\") as file:\n",
    "    # Read lines into a list\n",
    "    lines = file.readlines()  # Each line becomes an element in the list\n",
    "\n",
    "# Print the list of lines\n",
    "print(\"File content stored in list:\")\n",
    "print(lines)"
   ]
  },
  {
   "cell_type": "markdown",
   "id": "1db87461",
   "metadata": {},
   "source": [
    "### 10. How can you append data to an existing file in Python?\n"
   ]
  },
  {
   "cell_type": "code",
   "execution_count": 10,
   "id": "d6f04796",
   "metadata": {},
   "outputs": [
    {
     "name": "stdout",
     "output_type": "stream",
     "text": [
      "Data appended successfully!\n"
     ]
    }
   ],
   "source": [
    "# Open the file in append mode ('a')\n",
    "with open(\"example.txt\", \"a\") as file:\n",
    "    # Append new content\n",
    "    file.write(\"\\nAppending new data to the file!\")\n",
    "\n",
    "print(\"Data appended successfully!\")"
   ]
  },
  {
   "cell_type": "markdown",
   "id": "4a253b7e",
   "metadata": {},
   "source": [
    "### 11. Write a Python program that uses a try-except block to handle an error when attempting to access a dictionary key that doesn't exist?\n"
   ]
  },
  {
   "cell_type": "code",
   "execution_count": 11,
   "id": "b413c5fc",
   "metadata": {},
   "outputs": [
    {
     "name": "stdout",
     "output_type": "stream",
     "text": [
      "Enter a student's name to get their grade: Jyothi\n",
      "Jyothi's grade: 92\n"
     ]
    }
   ],
   "source": [
    "# Define a sample dictionary\n",
    "student_grades = {\"Chandu\": 90, \"Jyothi\": 92, \"Harsha\": 88}\n",
    "\n",
    "# Prompt user for a name to look up\n",
    "name = input(\"Enter a student's name to get their grade: \")\n",
    "\n",
    "try:\n",
    "    # Attempt to access the dictionary key\n",
    "    grade = student_grades[name]\n",
    "    print(f\"{name}'s grade: {grade}\")\n",
    "except KeyError:\n",
    "    print(f\"Error: The student '{name}' does not exist in the records.\")"
   ]
  },
  {
   "cell_type": "markdown",
   "id": "08c4cb95",
   "metadata": {},
   "source": [
    "### 12. Write a program that demonstrates using multiple except blocks to handle different types of exceptions?\n"
   ]
  },
  {
   "cell_type": "code",
   "execution_count": 12,
   "id": "78313f85",
   "metadata": {},
   "outputs": [
    {
     "name": "stdout",
     "output_type": "stream",
     "text": [
      "Enter the numerator: 4\n",
      "Enter the denominator: 16\n",
      "Result: 0.25\n",
      "Enter a student's name to get their grade: Chandu\n",
      "Chandu's grade: 90\n"
     ]
    }
   ],
   "source": [
    "try:\n",
    "    # Get user input for division\n",
    "    num1 = int(input(\"Enter the numerator: \"))\n",
    "    num2 = int(input(\"Enter the denominator: \"))\n",
    "    \n",
    "    # Perform division\n",
    "    result = num1 / num2\n",
    "    print(f\"Result: {result}\")\n",
    "    \n",
    "    # Attempt dictionary lookup\n",
    "    student_grades = {\"Chandu\": 90, \"Jyothi\": 92, \"Harsha\": 88}\n",
    "    student = input(\"Enter a student's name to get their grade: \")\n",
    "    print(f\"{student}'s grade: {student_grades[student]}\")\n",
    "\n",
    "except ZeroDivisionError:\n",
    "    print(\"Error: Division by zero is not allowed.\")\n",
    "except ValueError:\n",
    "    print(\"Error: Please enter a valid number.\")\n",
    "except KeyError:\n",
    "    print(\"Error: Student not found in the records.\")\n",
    "except Exception as e:\n",
    "    print(f\"Unexpected error: {e}\")"
   ]
  },
  {
   "cell_type": "markdown",
   "id": "c8c98e93",
   "metadata": {},
   "source": [
    "### 13. How would you check if a file exists before attempting to read it in Python?\n"
   ]
  },
  {
   "cell_type": "code",
   "execution_count": 13,
   "id": "c5dcb9a2",
   "metadata": {},
   "outputs": [
    {
     "name": "stdout",
     "output_type": "stream",
     "text": [
      "File content:\n",
      " Hello, I am Chandana.\n",
      "Appending new data to the file!\n"
     ]
    }
   ],
   "source": [
    "import os\n",
    "\n",
    "filename = \"example.txt\"\n",
    "\n",
    "# Check if the file exists before reading\n",
    "if os.path.exists(filename):\n",
    "    with open(filename, \"r\") as file:\n",
    "        content = file.read()\n",
    "        print(\"File content:\\n\", content)\n",
    "else:\n",
    "    print(f\"Error: The file '{filename}' does not exist.\")"
   ]
  },
  {
   "cell_type": "markdown",
   "id": "ab73cfd2",
   "metadata": {},
   "source": [
    "### 14. Write a program that uses the logging module to log both informational and error messages?\n"
   ]
  },
  {
   "cell_type": "code",
   "execution_count": 15,
   "id": "2e984f6d",
   "metadata": {},
   "outputs": [
    {
     "name": "stdout",
     "output_type": "stream",
     "text": [
      "Logs saved in 'app.log'!\n"
     ]
    }
   ],
   "source": [
    "import logging\n",
    "\n",
    "# Configure logging\n",
    "logging.basicConfig(filename=\"app.log\", level=logging.DEBUG, format=\"%(levelname)s - %(message)s\")\n",
    "\n",
    "logging.info(\"Program started\")\n",
    "\n",
    "try:\n",
    "    result = 10 / 0  # This will cause a ZeroDivisionError\n",
    "except ZeroDivisionError:\n",
    "    logging.error(\"Error: Division by zero occurred\")\n",
    "\n",
    "logging.info(\"Program ended\")\n",
    "\n",
    "print(\"Logs saved in 'app.log'!\")"
   ]
  },
  {
   "cell_type": "markdown",
   "id": "36c86af3",
   "metadata": {},
   "source": [
    "### 15. Write a Python program that prints the content of a file and handles the case when the file is empty?\n"
   ]
  },
  {
   "cell_type": "code",
   "execution_count": 16,
   "id": "17a0b616",
   "metadata": {},
   "outputs": [
    {
     "name": "stdout",
     "output_type": "stream",
     "text": [
      "File content:\n",
      " Hello, I am Chandana.\n",
      "Appending new data to the file!\n"
     ]
    }
   ],
   "source": [
    "# Open the file in read mode ('r')\n",
    "with open(\"example.txt\", \"r\") as file:\n",
    "    content = file.read().strip()  # Read content and remove extra spaces/newlines\n",
    "\n",
    "# Check if the file is empty\n",
    "if content:\n",
    "    print(\"File content:\\n\", content)\n",
    "else:\n",
    "    print(\"Error: The file is empty.\")"
   ]
  },
  {
   "cell_type": "markdown",
   "id": "a6dba558",
   "metadata": {},
   "source": [
    "### 16. Demonstrate how to use memory profiling to check the memory usage of a small program?\n"
   ]
  },
  {
   "cell_type": "code",
   "execution_count": 29,
   "id": "deb05453",
   "metadata": {},
   "outputs": [
    {
     "name": "stdout",
     "output_type": "stream",
     "text": [
      "Memory usage (in MB): [84.62890625, 84.62890625, 84.63671875, 84.63671875, 84.63671875, 84.63671875, 84.63671875, 84.63671875, 84.63671875, 84.63671875, 84.63671875, 84.63671875, 84.63671875, 84.63671875, 84.63671875, 84.63671875, 84.63671875, 84.63671875, 84.63671875, 84.63671875, 84.63671875, 84.63671875, 84.63671875, 84.63671875, 84.63671875, 84.63671875, 84.63671875, 84.63671875, 84.63671875, 84.63671875, 84.69921875, 84.76171875, 84.82421875, 84.88671875, 84.94921875, 85.01171875, 85.02734375, 85.07421875, 85.13671875, 85.19921875, 85.26171875, 85.38671875, 85.44921875, 85.51171875, 85.82421875, 85.88671875, 85.94921875, 86.01171875, 86.02734375, 86.07421875, 86.19921875, 86.26171875, 86.32421875, 86.32421875, 86.38671875, 86.44921875, 86.51171875, 86.52734375, 86.63671875, 86.63671875, 86.63671875, 86.63671875, 86.63671875, 86.63671875, 86.63671875, 86.63671875, 86.63671875, 86.63671875, 86.63671875, 86.63671875, 86.63671875, 86.63671875, 86.63671875, 86.63671875, 86.63671875, 86.63671875, 86.63671875, 86.63671875, 86.63671875, 86.63671875, 86.63671875, 86.63671875, 86.63671875, 86.63671875, 86.63671875, 86.63671875, 86.63671875, 86.63671875, 86.63671875, 86.63671875, 86.13671875, 85.63671875, 85.63671875, 85.63671875, 85.63671875, 84.63671875, 84.63671875, 84.63671875, 84.63671875]\n"
     ]
    }
   ],
   "source": [
    "from memory_profiler import memory_usage\n",
    "\n",
    "def sample_function():\n",
    "    numbers = [i for i in range(100000)]  # Creates a list using memory\n",
    "    return sum(numbers)\n",
    "\n",
    "# Measure memory usage before and after function execution\n",
    "mem_usage = memory_usage(sample_function)\n",
    "\n",
    "print(f\"Memory usage (in MB): {mem_usage}\")"
   ]
  },
  {
   "cell_type": "markdown",
   "id": "a6dafaad",
   "metadata": {},
   "source": [
    "### 17. Write a Python program to create and write a list of numbers to a file, one number per line?\n"
   ]
  },
  {
   "cell_type": "code",
   "execution_count": 30,
   "id": "6846c935",
   "metadata": {},
   "outputs": [
    {
     "name": "stdout",
     "output_type": "stream",
     "text": [
      "Numbers written to 'numbers.txt' successfully!\n"
     ]
    }
   ],
   "source": [
    "# Define a list of numbers\n",
    "numbers = [1, 2, 3, 4, 5, 6, 7, 8, 9, 10]\n",
    "\n",
    "# Open a file in write mode ('w')\n",
    "with open(\"numbers.txt\", \"w\") as file:\n",
    "    for number in numbers:\n",
    "        file.write(f\"{number}\\n\")  # Write each number followed by a newline\n",
    "\n",
    "print(\"Numbers written to 'numbers.txt' successfully!\")"
   ]
  },
  {
   "cell_type": "markdown",
   "id": "f60fc2fe",
   "metadata": {},
   "source": [
    "### 18. How would you implement a basic logging setup that logs to a file with rotation after 1MB?\n"
   ]
  },
  {
   "cell_type": "code",
   "execution_count": 31,
   "id": "3f91ea8a",
   "metadata": {},
   "outputs": [
    {
     "name": "stdout",
     "output_type": "stream",
     "text": [
      "Logging setup done! Check 'app.log' for logs.\n"
     ]
    }
   ],
   "source": [
    "import logging\n",
    "from logging.handlers import RotatingFileHandler\n",
    "\n",
    "# Configure logging\n",
    "log_file = \"app.log\"\n",
    "handler = RotatingFileHandler(log_file, maxBytes=1_000_000, backupCount=3)\n",
    "\n",
    "logging.basicConfig(\n",
    "    handlers=[handler],\n",
    "    level=logging.DEBUG,\n",
    "    format=\"%(asctime)s - %(levelname)s - %(message)s\"\n",
    ")\n",
    "\n",
    "# Example logs\n",
    "logging.info(\"Application started\")\n",
    "logging.warning(\"This is a warning message\")\n",
    "logging.error(\"An error occurred!\")\n",
    "logging.info(\"Application finished\")\n",
    "\n",
    "print(f\"Logging setup done! Check '{log_file}' for logs.\")"
   ]
  },
  {
   "cell_type": "markdown",
   "id": "58ea8d44",
   "metadata": {},
   "source": [
    "### 19. Write a program that handles both IndexError and KeyError using a try-except block?\n"
   ]
  },
  {
   "cell_type": "code",
   "execution_count": 32,
   "id": "60b7f879",
   "metadata": {},
   "outputs": [
    {
     "name": "stdout",
     "output_type": "stream",
     "text": [
      "Error: List index out of range.\n"
     ]
    }
   ],
   "source": [
    "try:\n",
    "    # List example (IndexError handling)\n",
    "    numbers = [10, 20, 30]\n",
    "    print(\"Accessing element:\", numbers[5])  # This will cause an IndexError\n",
    "\n",
    "    # Dictionary example (KeyError handling)\n",
    "    student_grades = {\"Alice\": 85, \"Bob\": 92}\n",
    "    print(\"Charlie's grade:\", student_grades[\"Charlie\"])  # This will cause a KeyError\n",
    "\n",
    "except IndexError:\n",
    "    print(\"Error: List index out of range.\")\n",
    "except KeyError:\n",
    "    print(\"Error: Key not found in the dictionary.\")\n",
    "except Exception as e:\n",
    "    print(f\"An unexpected error occurred: {e}\")"
   ]
  },
  {
   "cell_type": "markdown",
   "id": "3d19c07f",
   "metadata": {},
   "source": [
    "### 20. How would you open a file and read its contents using a context manager in Python?\n"
   ]
  },
  {
   "cell_type": "code",
   "execution_count": 33,
   "id": "8984f7bc",
   "metadata": {},
   "outputs": [
    {
     "name": "stdout",
     "output_type": "stream",
     "text": [
      "File content:\n",
      " Hello, I am Chandana.\n",
      "Appending new data to the file!\n"
     ]
    }
   ],
   "source": [
    "# Using a context manager to open and read a file\n",
    "with open(\"example.txt\", \"r\") as file:\n",
    "    content = file.read()  # Reads the entire file content\n",
    "    print(\"File content:\\n\", content)"
   ]
  },
  {
   "cell_type": "markdown",
   "id": "557fa12f",
   "metadata": {},
   "source": [
    "### 21. Write a Python program that reads a file and prints the number of occurrences of a specific word?"
   ]
  },
  {
   "cell_type": "code",
   "execution_count": 34,
   "id": "74d22bb9",
   "metadata": {},
   "outputs": [
    {
     "name": "stdout",
     "output_type": "stream",
     "text": [
      "The word 'Python' appears 0 times in 'example.txt'.\n"
     ]
    }
   ],
   "source": [
    "# Get user input for the filename and the word to search\n",
    "filename = \"example.txt\"\n",
    "search_word = \"Python\"\n",
    "\n",
    "# Open the file in read mode\n",
    "with open(filename, \"r\") as file:\n",
    "    content = file.read().lower()  # Read content and convert to lowercase\n",
    "\n",
    "# Count occurrences of the word\n",
    "word_count = content.split().count(search_word.lower())\n",
    "\n",
    "print(f\"The word '{search_word}' appears {word_count} times in '{filename}'.\")"
   ]
  },
  {
   "cell_type": "markdown",
   "id": "f6183ddb",
   "metadata": {},
   "source": [
    "### 22. How can you check if a file is empty before attempting to read its contents?\n"
   ]
  },
  {
   "cell_type": "code",
   "execution_count": 35,
   "id": "6710b457",
   "metadata": {},
   "outputs": [
    {
     "name": "stdout",
     "output_type": "stream",
     "text": [
      "File content:\n",
      " Hello, I am Chandana.\n",
      "Appending new data to the file!\n"
     ]
    }
   ],
   "source": [
    "import os\n",
    "\n",
    "filename = \"example.txt\"\n",
    "\n",
    "# Check file size before reading\n",
    "if os.path.exists(filename) and os.path.getsize(filename) > 0:\n",
    "    with open(filename, \"r\") as file:\n",
    "        content = file.read()\n",
    "        print(\"File content:\\n\", content)\n",
    "else:\n",
    "    print(f\"Error: The file '{filename}' is empty or does not exist.\")"
   ]
  },
  {
   "cell_type": "markdown",
   "id": "1dbd7cd0",
   "metadata": {},
   "source": [
    "### 23. Write a Python program that writes to a log file when an error occurs during file handling?"
   ]
  },
  {
   "cell_type": "code",
   "execution_count": 36,
   "id": "2aae9ee9",
   "metadata": {},
   "outputs": [
    {
     "name": "stdout",
     "output_type": "stream",
     "text": [
      "Error: The file 'missing_file.txt' does not exist.\n",
      "Error handling complete. Check 'file_error_log.txt' for details.\n"
     ]
    }
   ],
   "source": [
    "import logging\n",
    "\n",
    "# Configure logging to write error messages to a log file\n",
    "logging.basicConfig(filename=\"file_error_log.txt\", level=logging.ERROR, format=\"%(asctime)s - %(levelname)s - %(message)s\")\n",
    "\n",
    "def read_file(filename):\n",
    "    try:\n",
    "        with open(filename, \"r\") as file:\n",
    "            content = file.read()\n",
    "            print(\"File content:\\n\", content)\n",
    "    except FileNotFoundError:\n",
    "        error_message = f\"Error: The file '{filename}' does not exist.\"\n",
    "        print(error_message)\n",
    "        logging.error(error_message)\n",
    "    except PermissionError:\n",
    "        error_message = f\"Error: Permission denied for '{filename}'.\"\n",
    "        print(error_message)\n",
    "        logging.error(error_message)\n",
    "    except Exception as e:\n",
    "        error_message = f\"Unexpected error: {e}\"\n",
    "        print(error_message)\n",
    "        logging.error(error_message)\n",
    "\n",
    "# Call the function with a test filename\n",
    "read_file(\"missing_file.txt\")\n",
    "\n",
    "print(\"Error handling complete. Check 'file_error_log.txt' for details.\")"
   ]
  },
  {
   "cell_type": "code",
   "execution_count": null,
   "id": "00871265",
   "metadata": {},
   "outputs": [],
   "source": []
  }
 ],
 "metadata": {
  "kernelspec": {
   "display_name": "Python 3 (ipykernel)",
   "language": "python",
   "name": "python3"
  },
  "language_info": {
   "codemirror_mode": {
    "name": "ipython",
    "version": 3
   },
   "file_extension": ".py",
   "mimetype": "text/x-python",
   "name": "python",
   "nbconvert_exporter": "python",
   "pygments_lexer": "ipython3",
   "version": "3.11.4"
  }
 },
 "nbformat": 4,
 "nbformat_minor": 5
}
